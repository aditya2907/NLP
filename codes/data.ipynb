{
 "cells": [
  {
   "cell_type": "code",
   "execution_count": 1,
   "metadata": {},
   "outputs": [
    {
     "name": "stdout",
     "output_type": "stream",
     "text": [
      "Sample dataset saved to comments.csv\n"
     ]
    }
   ],
   "source": [
    "import pandas as pd\n",
    "\n",
    "# Sample data\n",
    "data = {\n",
    "    \"comment\": [\n",
    "        \"System crash occurred during test.\",\n",
    "        \"Everything is running smoothly.\",\n",
    "        \"Error 404 on page load.\",\n",
    "        \"Performance seems fine.\",\n",
    "        \"Memory usage spike detected.\",\n",
    "        \"All systems operational.\",\n",
    "        \"Unexpected shutdown occurred.\",\n",
    "        \"Routine maintenance completed successfully.\"\n",
    "    ],\n",
    "    \"date\": [\n",
    "        \"2024-11-01\",\n",
    "        \"2024-11-02\",\n",
    "        \"2024-11-03\",\n",
    "        \"2024-11-04\",\n",
    "        \"2024-11-05\",\n",
    "        \"2024-11-06\",\n",
    "        \"2024-11-07\",\n",
    "        \"2024-11-08\"\n",
    "    ],\n",
    "    \"failure_flag\": [1, 0, 1, 0, 1, 0, 1, 0]\n",
    "}\n",
    "\n",
    "# Convert to DataFrame\n",
    "df = pd.DataFrame(data)\n",
    "\n",
    "# Save as CSV\n",
    "csv_file = \"comments.csv\"\n",
    "df.to_csv(csv_file, index=False)\n",
    "print(f\"Sample dataset saved to {csv_file}\")\n"
   ]
  }
 ],
 "metadata": {
  "kernelspec": {
   "display_name": "tf-gpu",
   "language": "python",
   "name": "python3"
  },
  "language_info": {
   "codemirror_mode": {
    "name": "ipython",
    "version": 3
   },
   "file_extension": ".py",
   "mimetype": "text/x-python",
   "name": "python",
   "nbconvert_exporter": "python",
   "pygments_lexer": "ipython3",
   "version": "3.9.18"
  }
 },
 "nbformat": 4,
 "nbformat_minor": 2
}
